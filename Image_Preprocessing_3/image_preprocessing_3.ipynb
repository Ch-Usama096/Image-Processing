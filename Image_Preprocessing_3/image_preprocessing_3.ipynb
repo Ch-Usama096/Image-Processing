{
 "cells": [
  {
   "cell_type": "code",
   "execution_count": 1,
   "metadata": {},
   "outputs": [],
   "source": [
    "import cv2\n",
    "import numpy as np"
   ]
  },
  {
   "cell_type": "markdown",
   "metadata": {},
   "source": [
    "# Read & Display the Image"
   ]
  },
  {
   "cell_type": "code",
   "execution_count": 2,
   "metadata": {},
   "outputs": [],
   "source": [
    "# Read the Image\n",
    "img = cv2.imread(r'Pokemon1.jpg')\n",
    "\n",
    "# Resize the Image \n",
    "img = cv2.resize(img , (600,500))\n",
    "\n",
    "# Display the Image\n",
    "cv2.imshow('Original Image' , img)\n",
    "cv2.waitKey(0)\n",
    "cv2.destroyAllWindows()"
   ]
  },
  {
   "cell_type": "markdown",
   "metadata": {},
   "source": [
    "# ROI (Region of interest)"
   ]
  },
  {
   "cell_type": "code",
   "execution_count": 3,
   "metadata": {},
   "outputs": [],
   "source": [
    "# Extract the interested Object\n",
    "roi_img = img[260:410 , 160:310]    \n",
    "\n",
    "# Add the ROI Image in the Original Image\n",
    "img[260:410, 10:160 ] = roi_img\n",
    "\n",
    "\n",
    "# Display the Images\n",
    "cv2.imshow('ROI Image' , roi_img)\n",
    "cv2.imshow('Add Image' , img)\n",
    "cv2.waitKey(0)\n",
    "cv2.destroyAllWindows()"
   ]
  },
  {
   "cell_type": "markdown",
   "metadata": {},
   "source": [
    "# Image Blending"
   ]
  },
  {
   "cell_type": "code",
   "execution_count": 4,
   "metadata": {},
   "outputs": [],
   "source": [
    "# Read the Images\n",
    "img_1 = cv2.imread(r'Pokemon1.jpg')\n",
    "img_2 = cv2.imread(r'pekachu2.png')\n",
    "\n",
    "# Resize the Images\n",
    "img_1 = cv2.resize(img_1 , (600,500))\n",
    "img_2 = cv2.resize(img_2 , (600,500))\n",
    "\n",
    "# Apply the Image Blending Techniques\n",
    "\n",
    "# First Technique\n",
    "Res_1 = cv2.add(img_1 , img_2)\n",
    "\n",
    "# Second Technique\n",
    "Res_2 = cv2.addWeighted(img_1 , 0.4 , img_2 , 0.6 , 0)\n",
    "\n",
    "# Display the Images\n",
    "cv2.imshow('First Image'      , img_1)\n",
    "cv2.imshow('Second Image'     , img_2)\n",
    "cv2.imshow('First Technique'  , Res_1)\n",
    "cv2.imshow('Second Technique' , Res_2)\n",
    "cv2.waitKey(0)\n",
    "cv2.destroyAllWindows()"
   ]
  },
  {
   "cell_type": "markdown",
   "metadata": {},
   "source": [
    "# Create the Border in the Image"
   ]
  },
  {
   "cell_type": "code",
   "execution_count": 5,
   "metadata": {},
   "outputs": [],
   "source": [
    "# Read the Image\n",
    "img = cv2.imread(r'Pokemon1.jpg')\n",
    "\n",
    "# Resize the Image \n",
    "img = cv2.resize(img , (600,500))\n",
    "\n",
    "# Create the Border\n",
    "Image = cv2.copyMakeBorder(img , 10 , 10 , 15 , 15 , cv2.BORDER_CONSTANT)\n",
    "\n",
    "# Display the Image\n",
    "cv2.imshow('Original Image' , img)\n",
    "cv2.imshow('Border Image'   , Image)\n",
    "cv2.waitKey(0) \n",
    "cv2.destroyAllWindows()"
   ]
  },
  {
   "cell_type": "markdown",
   "metadata": {},
   "source": [
    "# Bitwise Operator"
   ]
  },
  {
   "cell_type": "code",
   "execution_count": 6,
   "metadata": {},
   "outputs": [],
   "source": [
    "# AND Operator\n",
    "\n",
    "# Create the Black Images\n",
    "Image_1 = np.ones((400,400) , dtype = np.uint8)\n",
    "Image_2 = np.ones((400,400) , dtype = np.uint8)\n",
    "\n",
    "# Draw the Rectangle in the Images\n",
    "Image_1 = cv2.rectangle(Image_1 , (200 , 0) , (0 , 200) , color = (255,255,255) , thickness = -1)\n",
    "Image_2 = cv2.rectangle(Image_2 , (300 , 0) , (0 , 200) , color = (255,255,255) , thickness = -1)\n",
    "\n",
    "# Apply AND Operator\n",
    "AND = cv2.bitwise_and(Image_1 , Image_2) \n",
    "\n",
    "# Display the Image\n",
    "cv2.imshow('First Image'  , Image_1)\n",
    "cv2.imshow('Second Image' , Image_2)\n",
    "cv2.imshow('AND Operator' , AND)\n",
    "cv2.waitKey(0)\n",
    "cv2.destroyAllWindows()"
   ]
  },
  {
   "cell_type": "code",
   "execution_count": 7,
   "metadata": {},
   "outputs": [],
   "source": [
    "# OR Operator\n",
    "\n",
    "# Create the Black Images\n",
    "Image_1 = np.ones((400,400) , dtype = np.uint8)\n",
    "Image_2 = np.ones((400,400) , dtype = np.uint8)\n",
    "\n",
    "# Draw the Rectangle in the Images\n",
    "Image_1 = cv2.rectangle(Image_1 , (200 , 0) , (0 , 200) , color = (255,255,255) , thickness = -1)\n",
    "Image_2 = cv2.rectangle(Image_2 , (300 , 0) , (0 , 200) , color = (255,255,255) , thickness = -1)\n",
    "\n",
    "# Apply OR Operator\n",
    "OR = cv2.bitwise_or(Image_1 , Image_2) \n",
    "\n",
    "# Display the Image\n",
    "cv2.imshow('First Image'  , Image_1)\n",
    "cv2.imshow('Second Image' , Image_2)\n",
    "cv2.imshow('OR Operator'  , OR)\n",
    "cv2.waitKey(0)\n",
    "cv2.destroyAllWindows()"
   ]
  },
  {
   "cell_type": "code",
   "execution_count": 8,
   "metadata": {},
   "outputs": [],
   "source": [
    "# XOR Operator\n",
    "\n",
    "# Create the Black Images\n",
    "Image_1 = np.ones((400,400) , dtype = np.uint8)\n",
    "Image_2 = np.ones((400,400) , dtype = np.uint8)\n",
    "\n",
    "# Draw the Rectangle in the Images\n",
    "Image_1 = cv2.rectangle(Image_1 , (200 , 0) , (0 , 200) , color = (255,255,255) , thickness = -1)\n",
    "Image_2 = cv2.rectangle(Image_2 , (300 , 0) , (0 , 200) , color = (255,255,255) , thickness = -1)\n",
    "\n",
    "# Apply XOR Operator\n",
    "XOR = cv2.bitwise_xor(Image_1 , Image_2) \n",
    "\n",
    "# Display the Image\n",
    "cv2.imshow('First Image'  , Image_1)\n",
    "cv2.imshow('Second Image' , Image_2)\n",
    "cv2.imshow('XOR Operator'  , XOR)\n",
    "cv2.waitKey(0)\n",
    "cv2.destroyAllWindows()"
   ]
  },
  {
   "cell_type": "code",
   "execution_count": 9,
   "metadata": {},
   "outputs": [],
   "source": [
    "# NOT Operator\n",
    "\n",
    "# Create the Black Image\n",
    "Image = np.ones((400,400) , dtype = np.uint8)\n",
    "\n",
    "# Draw the Rectangle in the Image\n",
    "Image = cv2.rectangle(Image , (200 , 0) , (0 , 200) , color = (255,255,255) , thickness = -1)\n",
    "\n",
    "# Apply NOT Operator\n",
    "NOT = cv2.bitwise_not(Image) \n",
    "\n",
    "# Display the Image\n",
    "cv2.imshow('Image'  , Image)\n",
    "cv2.imshow('NOT Operator' , NOT)\n",
    "cv2.waitKey(0)\n",
    "cv2.destroyAllWindows()"
   ]
  },
  {
   "cell_type": "code",
   "execution_count": null,
   "metadata": {},
   "outputs": [],
   "source": []
  }
 ],
 "metadata": {
  "kernelspec": {
   "display_name": "Python 3",
   "language": "python",
   "name": "python3"
  },
  "language_info": {
   "codemirror_mode": {
    "name": "ipython",
    "version": 3
   },
   "file_extension": ".py",
   "mimetype": "text/x-python",
   "name": "python",
   "nbconvert_exporter": "python",
   "pygments_lexer": "ipython3",
   "version": "3.8.3"
  }
 },
 "nbformat": 4,
 "nbformat_minor": 4
}
