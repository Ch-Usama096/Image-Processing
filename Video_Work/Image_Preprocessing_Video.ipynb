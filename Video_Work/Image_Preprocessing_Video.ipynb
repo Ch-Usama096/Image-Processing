{
 "cells": [
  {
   "cell_type": "code",
   "execution_count": 2,
   "metadata": {},
   "outputs": [],
   "source": [
    "import cv2"
   ]
  },
  {
   "cell_type": "markdown",
   "metadata": {},
   "source": [
    "# Read The Video"
   ]
  },
  {
   "cell_type": "code",
   "execution_count": 3,
   "metadata": {},
   "outputs": [],
   "source": [
    "cap = cv2.VideoCapture(\n",
    "r'C:\\Users\\Mlogix\\Documents\\CV Programming\\Videos\\protector.mp4')\n",
    "\n",
    "while True:\n",
    "    \n",
    "    # Read the Video Frame\n",
    "    istrue,frame = cap.read()\n",
    "    \n",
    "    if istrue == True:\n",
    "        \n",
    "        # Resize the Frame\n",
    "        frame = cv2.resize(frame , (600,450))\n",
    "        \n",
    "        # Show the Video Frame\n",
    "        cv2.imshow('Video' , frame)\n",
    "        \n",
    "        if cv2.waitKey(25) & 0xff == ord('q'):\n",
    "            break\n",
    "\n",
    "cap.release()\n",
    "cv2.destroyAllWindows()"
   ]
  },
  {
   "cell_type": "markdown",
   "metadata": {},
   "source": [
    "# Read the Video and Save the Frame"
   ]
  },
  {
   "cell_type": "code",
   "execution_count": 4,
   "metadata": {},
   "outputs": [],
   "source": [
    "cap = cv2.VideoCapture(\n",
    "r'C:\\Users\\Mlogix\\Documents\\CV Programming\\Videos\\protector.mp4')\n",
    "count = 0\n",
    "\n",
    "while True:\n",
    "    \n",
    "    # Read the Video Frame\n",
    "    istrue , frame = cap.read()\n",
    "    \n",
    "    if istrue == True:\n",
    "        \n",
    "        # Resize the Frame\n",
    "        frame = cv2.resize(frame , (400 , 400))\n",
    "        \n",
    "        # Show The Video Frame\n",
    "        cv2.imshow('Video' , frame)\n",
    "        \n",
    "        # Save the Video Frame\n",
    "        cv2.imwrite(\n",
    "'C:\\\\Users\\\\Mlogix\\\\Documents\\\\CV Programming\\\\frame{}.png'.format(count)\n",
    "            , frame)\n",
    "        \n",
    "        count += 1\n",
    "        \n",
    "        if cv2.waitKey(25) & 0xff == ord('q'):\n",
    "            break\n",
    "            \n",
    "cap.release()\n",
    "cv2.destroyAllWindows()"
   ]
  },
  {
   "cell_type": "markdown",
   "metadata": {},
   "source": [
    "# Save The Video After Some Operation"
   ]
  },
  {
   "cell_type": "code",
   "execution_count": 20,
   "metadata": {},
   "outputs": [],
   "source": [
    "cap = cv2.VideoCapture(\n",
    "r'C:\\Users\\Mlogix\\Documents\\CV Programming\\Videos\\protector.mp4')\n",
    "\n",
    "fourcc = cv2.VideoWriter_fourcc(*'X264')\n",
    "\n",
    "output_video = cv2.VideoWriter(\n",
    "'C:\\\\Users\\\\Mlogix\\\\Documents\\\\CV Programming\\\\Saved_Video\\\\result.mp4'\n",
    "    , fourcc , 20.0 , (600,450))\n",
    "\n",
    "while True:\n",
    "    \n",
    "    # Read the Video Frame\n",
    "    istrue , frame = cap.read()\n",
    "    \n",
    "    if istrue == True:\n",
    "        \n",
    "        # Reszie The Frame\n",
    "        frame = cv2.resize(frame , (600,450))\n",
    "        \n",
    "        # Convert The GrayScale\n",
    "        frame = cv2.cvtColor(frame , cv2.COLOR_BGR2GRAY)\n",
    "        \n",
    "        # Show The Video Frame\n",
    "        cv2.imshow('Video' , frame)\n",
    "        \n",
    "        # Save The Video Frame\n",
    "        output_video.write(frame)\n",
    "        \n",
    "        if cv2.waitKey(25) & 0xff == ord('q'):\n",
    "            break\n",
    "        \n",
    "cap.release()\n",
    "output_video.release()\n",
    "cv2.destroyAllWindows()"
   ]
  },
  {
   "cell_type": "markdown",
   "metadata": {},
   "source": [
    "# Write Some Text in the Video and Save The Video"
   ]
  },
  {
   "cell_type": "code",
   "execution_count": 30,
   "metadata": {},
   "outputs": [],
   "source": [
    "cap = cv2.VideoCapture(\n",
    "r'C:\\Users\\Mlogix\\Documents\\CV Programming\\Videos\\protector.mp4')\n",
    "\n",
    "width = cap.get(3)\n",
    "height = cap.get(4)\n",
    "\n",
    "fourcc = cv2.VideoWriter_fourcc(*'X264')\n",
    "\n",
    "output_video = cv2.VideoWriter(\n",
    "'C:\\\\Users\\\\Mlogix\\\\Documents\\\\CV Programming\\\\Saved_Video\\\\output.mp4' \n",
    "    , fourcc , 20.0 , (600,450))\n",
    "\n",
    "while True:\n",
    "    \n",
    "    istrue , frame = cap.read()\n",
    "    \n",
    "    if istrue == True:\n",
    "        \n",
    "        # Resize The Frame\n",
    "        frame = cv2.resize(frame , (600,450))\n",
    "        \n",
    "        # Write The Text\n",
    "        text = 'Height is : {} and Width is fo: {}'.format(height , width)\n",
    "        font = cv2.FONT_HERSHEY_COMPLEX\n",
    "        \n",
    "        frame = cv2.putText(frame , text , (30 , 50) , \n",
    "        font , 0.7 , color = (255,0,12) , thickness = 2 )\n",
    "    \n",
    "        # Show The Video Frame\n",
    "        cv2.imshow('Video' , frame)\n",
    "        \n",
    "        # Save The Video Frame\n",
    "        output_video.write(frame)\n",
    "    \n",
    "        if cv2.waitKey(25) & 0xff == ord('q'):\n",
    "            break\n",
    "            \n",
    "cap.release()\n",
    "output_video.release()\n",
    "cv2.destroyAllWindows()"
   ]
  },
  {
   "cell_type": "markdown",
   "metadata": {},
   "source": [
    "# Webcam Video"
   ]
  },
  {
   "cell_type": "code",
   "execution_count": 31,
   "metadata": {},
   "outputs": [],
   "source": [
    "cap = cv2.VideoCapture(0)\n",
    "\n",
    "fourcc = cv2.VideoWriter_fourcc(*'X264')\n",
    "\n",
    "output_video = cv2.VideoWriter(\n",
    "'C:\\\\Users\\\\Mlogix\\\\Documents\\\\CV Programming\\\\Saved_Video\\\\webcam_video.mp4' \n",
    "    , fourcc , 20.0 , (600,450))\n",
    "\n",
    "while cap.isOpened():\n",
    "    \n",
    "    # Read the Webam Video Frame\n",
    "    istrue , frame = cap.read()\n",
    "    \n",
    "    if istrue == True:\n",
    "        \n",
    "        # Resize The Frame\n",
    "        frame = cv2.resize(frame , (600,450))\n",
    "        \n",
    "        # Show The Video Frame\n",
    "        cv2.imshow('Video' , frame)\n",
    "        \n",
    "        # Save the Video Frame\n",
    "        output_video.write(frame)\n",
    "        \n",
    "        if cv2.waitKey(25) & 0xff == ord('q'):\n",
    "            break\n",
    "\n",
    "cap.release()            \n",
    "output_video.release()\n",
    "cv2.destroyAllWindows()"
   ]
  }
 ],
 "metadata": {
  "kernelspec": {
   "display_name": "Python 3",
   "language": "python",
   "name": "python3"
  },
  "language_info": {
   "codemirror_mode": {
    "name": "ipython",
    "version": 3
   },
   "file_extension": ".py",
   "mimetype": "text/x-python",
   "name": "python",
   "nbconvert_exporter": "python",
   "pygments_lexer": "ipython3",
   "version": "3.8.3"
  }
 },
 "nbformat": 4,
 "nbformat_minor": 4
}
